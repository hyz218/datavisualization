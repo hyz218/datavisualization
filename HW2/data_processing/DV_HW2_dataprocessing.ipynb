{
 "cells": [
  {
   "cell_type": "code",
   "execution_count": 1,
   "metadata": {},
   "outputs": [],
   "source": [
    "import pandas as pd\n",
    "import numpy as np"
   ]
  },
  {
   "cell_type": "markdown",
   "metadata": {},
   "source": [
    "# Data load"
   ]
  },
  {
   "cell_type": "code",
   "execution_count": 2,
   "metadata": {},
   "outputs": [],
   "source": [
    "df1=pd.read_csv('도로교통공단_전국_사망교통사고정보(2018)_20190910.csv',encoding=\"cp949\")\n",
    "df2=pd.read_csv('도로교통공단_전국사망교통사고_2017.csv',encoding=\"cp949\")\n",
    "df3=pd.read_csv('2016년_교통사망사고정보.csv',encoding=\"cp949\")\n",
    "df4=pd.read_csv('도로교통공단_전국_사망교통사고정보(2015)_20190910.csv',encoding=\"cp949\")"
   ]
  },
  {
   "cell_type": "code",
   "execution_count": 3,
   "metadata": {},
   "outputs": [],
   "source": [
    "pd.set_option('display.max_columns', None)"
   ]
  },
  {
   "cell_type": "markdown",
   "metadata": {},
   "source": [
    "# Modifying & Drop columns"
   ]
  },
  {
   "cell_type": "code",
   "execution_count": 4,
   "metadata": {},
   "outputs": [
    {
     "data": {
      "text/html": [
       "<div>\n",
       "<style scoped>\n",
       "    .dataframe tbody tr th:only-of-type {\n",
       "        vertical-align: middle;\n",
       "    }\n",
       "\n",
       "    .dataframe tbody tr th {\n",
       "        vertical-align: top;\n",
       "    }\n",
       "\n",
       "    .dataframe thead th {\n",
       "        text-align: right;\n",
       "    }\n",
       "</style>\n",
       "<table border=\"1\" class=\"dataframe\">\n",
       "  <thead>\n",
       "    <tr style=\"text-align: right;\">\n",
       "      <th></th>\n",
       "      <th>발생년</th>\n",
       "      <th>발생년월일시분</th>\n",
       "      <th>주야</th>\n",
       "      <th>요일</th>\n",
       "      <th>사망자수</th>\n",
       "      <th>사상자수</th>\n",
       "      <th>중상자수</th>\n",
       "      <th>경상자수</th>\n",
       "      <th>발생지시도</th>\n",
       "      <th>발생지시군구</th>\n",
       "      <th>사고유형_대분류</th>\n",
       "      <th>사고유형</th>\n",
       "      <th>법규위반_대분류</th>\n",
       "      <th>법규위반</th>\n",
       "      <th>도로형태_대분류</th>\n",
       "      <th>도로형태</th>\n",
       "      <th>가해자_당사자종별</th>\n",
       "      <th>피해자_당사자종별</th>\n",
       "      <th>경도</th>\n",
       "      <th>위도</th>\n",
       "    </tr>\n",
       "  </thead>\n",
       "  <tbody>\n",
       "    <tr>\n",
       "      <th>0</th>\n",
       "      <td>2018</td>\n",
       "      <td>2018-02-14 06:35</td>\n",
       "      <td>주</td>\n",
       "      <td>수</td>\n",
       "      <td>1</td>\n",
       "      <td>1</td>\n",
       "      <td>0</td>\n",
       "      <td>0</td>\n",
       "      <td>서울</td>\n",
       "      <td>서대문구</td>\n",
       "      <td>차대사람</td>\n",
       "      <td>횡단중</td>\n",
       "      <td>운전자법규위반</td>\n",
       "      <td>안전운전 의무 불이행</td>\n",
       "      <td>단일로</td>\n",
       "      <td>기타단일로</td>\n",
       "      <td>승용차</td>\n",
       "      <td>보행자</td>\n",
       "      <td>126.939274</td>\n",
       "      <td>37.590388</td>\n",
       "    </tr>\n",
       "  </tbody>\n",
       "</table>\n",
       "</div>"
      ],
      "text/plain": [
       "    발생년           발생년월일시분 주야 요일  사망자수  사상자수  중상자수  경상자수 발생지시도 발생지시군구 사고유형_대분류  \\\n",
       "0  2018  2018-02-14 06:35  주  수     1     1     0     0    서울   서대문구     차대사람   \n",
       "\n",
       "  사고유형 법규위반_대분류         법규위반 도로형태_대분류   도로형태 가해자_당사자종별 피해자_당사자종별          경도  \\\n",
       "0  횡단중  운전자법규위반  안전운전 의무 불이행      단일로  기타단일로       승용차       보행자  126.939274   \n",
       "\n",
       "          위도  \n",
       "0  37.590388  "
      ]
     },
     "execution_count": 4,
     "metadata": {},
     "output_type": "execute_result"
    }
   ],
   "source": [
    "df1 = df1.drop(df1.columns[[8,12,18,20,22,23]], axis=1)\n",
    "df1.head(1)"
   ]
  },
  {
   "cell_type": "code",
   "execution_count": 5,
   "metadata": {},
   "outputs": [],
   "source": [
    "#df1[df1['발생년월일시분'].str.contains(\"2018-02\")]"
   ]
  },
  {
   "cell_type": "code",
   "execution_count": 6,
   "metadata": {},
   "outputs": [
    {
     "data": {
      "text/html": [
       "<div>\n",
       "<style scoped>\n",
       "    .dataframe tbody tr th:only-of-type {\n",
       "        vertical-align: middle;\n",
       "    }\n",
       "\n",
       "    .dataframe tbody tr th {\n",
       "        vertical-align: top;\n",
       "    }\n",
       "\n",
       "    .dataframe thead th {\n",
       "        text-align: right;\n",
       "    }\n",
       "</style>\n",
       "<table border=\"1\" class=\"dataframe\">\n",
       "  <thead>\n",
       "    <tr style=\"text-align: right;\">\n",
       "      <th></th>\n",
       "      <th>발생년</th>\n",
       "      <th>발생년월일시분</th>\n",
       "      <th>주야</th>\n",
       "      <th>요일</th>\n",
       "      <th>사망자수</th>\n",
       "      <th>사상자수</th>\n",
       "      <th>중상자수</th>\n",
       "      <th>경상자수</th>\n",
       "      <th>발생지시도</th>\n",
       "      <th>발생지시군구</th>\n",
       "      <th>사고유형_대분류</th>\n",
       "      <th>사고유형</th>\n",
       "      <th>법규위반_대분류</th>\n",
       "      <th>법규위반</th>\n",
       "      <th>도로형태_대분류</th>\n",
       "      <th>도로형태</th>\n",
       "      <th>가해자_당사자종별</th>\n",
       "      <th>피해자_당사자종별</th>\n",
       "      <th>경도</th>\n",
       "      <th>위도</th>\n",
       "    </tr>\n",
       "  </thead>\n",
       "  <tbody>\n",
       "    <tr>\n",
       "      <th>0</th>\n",
       "      <td>2017</td>\n",
       "      <td>2017-01-01 01:00</td>\n",
       "      <td>야간</td>\n",
       "      <td>일</td>\n",
       "      <td>1</td>\n",
       "      <td>2</td>\n",
       "      <td>1</td>\n",
       "      <td>0</td>\n",
       "      <td>전남</td>\n",
       "      <td>장성군</td>\n",
       "      <td>차대차</td>\n",
       "      <td>기타</td>\n",
       "      <td>운전자법규위반</td>\n",
       "      <td>안전운전 의무 불이행</td>\n",
       "      <td>단일로</td>\n",
       "      <td>기타단일로</td>\n",
       "      <td>승용차</td>\n",
       "      <td>승용차</td>\n",
       "      <td>126.768634</td>\n",
       "      <td>35.294464</td>\n",
       "    </tr>\n",
       "  </tbody>\n",
       "</table>\n",
       "</div>"
      ],
      "text/plain": [
       "    발생년           발생년월일시분  주야 요일  사망자수  사상자수  중상자수  경상자수 발생지시도 발생지시군구  \\\n",
       "0  2017  2017-01-01 01:00  야간  일     1     2     1     0    전남    장성군   \n",
       "\n",
       "  사고유형_대분류 사고유형 법규위반_대분류         법규위반 도로형태_대분류   도로형태 가해자_당사자종별 피해자_당사자종별  \\\n",
       "0      차대차   기타  운전자법규위반  안전운전 의무 불이행      단일로  기타단일로       승용차       승용차   \n",
       "\n",
       "           경도         위도  \n",
       "0  126.768634  35.294464  "
      ]
     },
     "execution_count": 6,
     "metadata": {},
     "output_type": "execute_result"
    }
   ],
   "source": [
    "df2 = df2.drop(df2.columns[[2,9,13,20,22,23,24]], axis=1)\n",
    "df2.rename(columns={\"발생년월일시\":\"발생년월일시분\",\"당사자종별_1당_대분류\":\"가해자_당사자종별\",\"당사자종별_2당_대분류\":\"피해자_당사자종별\"}, inplace = True)\n",
    "df2.head(1)"
   ]
  },
  {
   "cell_type": "code",
   "execution_count": 7,
   "metadata": {
    "scrolled": false
   },
   "outputs": [],
   "source": [
    "df3 = df3.drop(df3.columns[[2,9,13,20,22,23,24]], axis=1)\n",
    "df3.rename(columns={\"발생년월일시\":\"발생년월일시분\",\"당사자종별_1당_대분류\":\"가해자_당사자종별\",\"당사자종별_2당_대분류\":\"피해자_당사자종별\"}, inplace = True)"
   ]
  },
  {
   "cell_type": "code",
   "execution_count": 8,
   "metadata": {},
   "outputs": [],
   "source": [
    "df4 = df4.drop(df4.columns[[8,12,19,21,22,23]], axis=1)\n",
    "df4.rename(columns={\"가해자_당사자종별_대분류\":\"가해자_당사자종별\",\"피해자_당사자종별_대분류\":\"피해자_당사자종별\"}, inplace = True)"
   ]
  },
  {
   "cell_type": "code",
   "execution_count": 9,
   "metadata": {},
   "outputs": [],
   "source": [
    "df12=pd.concat([df1,df2],ignore_index=True)\n",
    "df34=pd.concat([df3,df4],ignore_index=True)\n",
    "df=pd.concat([df12,df34],ignore_index=True)"
   ]
  },
  {
   "cell_type": "code",
   "execution_count": 10,
   "metadata": {},
   "outputs": [
    {
     "data": {
      "text/plain": [
       "(16288, 20)"
      ]
     },
     "execution_count": 10,
     "metadata": {},
     "output_type": "execute_result"
    }
   ],
   "source": [
    "df.shape"
   ]
  },
  {
   "cell_type": "code",
   "execution_count": 11,
   "metadata": {},
   "outputs": [],
   "source": [
    "df['발생월']=df['발생년월일시분'].apply(lambda e: e.split('-')[1])\n",
    "df['발생일']=df['발생년월일시분'].apply(lambda e: e.split('-')[2])\n",
    "df['발생일']=df['발생일'].apply(lambda e: e.split()[0])\n",
    "df['발생시']=df['발생년월일시분'].apply(lambda e: e.split()[1])\n",
    "df['발생시']=df['발생시'].apply(lambda e: e.split(':')[0])\n",
    "df['발생월']=df['발생월'].astype(str).astype(int)\n",
    "df['발생일']=df['발생일'].astype(str).astype(int)\n",
    "df['발생시']=df['발생시'].astype(str).astype(int)"
   ]
  },
  {
   "cell_type": "code",
   "execution_count": 12,
   "metadata": {},
   "outputs": [],
   "source": [
    "df = df.drop(df.columns[[1]], axis=1)"
   ]
  },
  {
   "cell_type": "code",
   "execution_count": 13,
   "metadata": {
    "scrolled": true
   },
   "outputs": [
    {
     "data": {
      "text/html": [
       "<div>\n",
       "<style scoped>\n",
       "    .dataframe tbody tr th:only-of-type {\n",
       "        vertical-align: middle;\n",
       "    }\n",
       "\n",
       "    .dataframe tbody tr th {\n",
       "        vertical-align: top;\n",
       "    }\n",
       "\n",
       "    .dataframe thead th {\n",
       "        text-align: right;\n",
       "    }\n",
       "</style>\n",
       "<table border=\"1\" class=\"dataframe\">\n",
       "  <thead>\n",
       "    <tr style=\"text-align: right;\">\n",
       "      <th></th>\n",
       "      <th>발생년</th>\n",
       "      <th>주야</th>\n",
       "      <th>요일</th>\n",
       "      <th>사망자수</th>\n",
       "      <th>사상자수</th>\n",
       "      <th>중상자수</th>\n",
       "      <th>경상자수</th>\n",
       "      <th>발생지시도</th>\n",
       "      <th>발생지시군구</th>\n",
       "      <th>사고유형_대분류</th>\n",
       "      <th>사고유형</th>\n",
       "      <th>법규위반_대분류</th>\n",
       "      <th>법규위반</th>\n",
       "      <th>도로형태_대분류</th>\n",
       "      <th>도로형태</th>\n",
       "      <th>가해자_당사자종별</th>\n",
       "      <th>피해자_당사자종별</th>\n",
       "      <th>경도</th>\n",
       "      <th>위도</th>\n",
       "      <th>발생월</th>\n",
       "      <th>발생일</th>\n",
       "      <th>발생시</th>\n",
       "    </tr>\n",
       "  </thead>\n",
       "  <tbody>\n",
       "    <tr>\n",
       "      <th>16283</th>\n",
       "      <td>2015</td>\n",
       "      <td>주</td>\n",
       "      <td>목</td>\n",
       "      <td>1</td>\n",
       "      <td>4</td>\n",
       "      <td>3</td>\n",
       "      <td>0</td>\n",
       "      <td>충남</td>\n",
       "      <td>당진시</td>\n",
       "      <td>차량단독</td>\n",
       "      <td>공작물충돌</td>\n",
       "      <td>운전자법규위반</td>\n",
       "      <td>안전운전 의무 불이행</td>\n",
       "      <td>단일로</td>\n",
       "      <td>기타단일로</td>\n",
       "      <td>승용차</td>\n",
       "      <td>없음</td>\n",
       "      <td>126.585505</td>\n",
       "      <td>36.851561</td>\n",
       "      <td>12</td>\n",
       "      <td>31</td>\n",
       "      <td>6</td>\n",
       "    </tr>\n",
       "    <tr>\n",
       "      <th>16284</th>\n",
       "      <td>2015</td>\n",
       "      <td>주</td>\n",
       "      <td>목</td>\n",
       "      <td>1</td>\n",
       "      <td>6</td>\n",
       "      <td>3</td>\n",
       "      <td>2</td>\n",
       "      <td>경북</td>\n",
       "      <td>영천시</td>\n",
       "      <td>차대차</td>\n",
       "      <td>정면충돌</td>\n",
       "      <td>운전자법규위반</td>\n",
       "      <td>안전운전 의무 불이행</td>\n",
       "      <td>단일로</td>\n",
       "      <td>교량위</td>\n",
       "      <td>승용차</td>\n",
       "      <td>화물차</td>\n",
       "      <td>128.946486</td>\n",
       "      <td>35.974254</td>\n",
       "      <td>12</td>\n",
       "      <td>31</td>\n",
       "      <td>11</td>\n",
       "    </tr>\n",
       "    <tr>\n",
       "      <th>16285</th>\n",
       "      <td>2015</td>\n",
       "      <td>주</td>\n",
       "      <td>목</td>\n",
       "      <td>1</td>\n",
       "      <td>1</td>\n",
       "      <td>0</td>\n",
       "      <td>0</td>\n",
       "      <td>서울</td>\n",
       "      <td>서대문구</td>\n",
       "      <td>차대사람</td>\n",
       "      <td>차도통행중</td>\n",
       "      <td>운전자법규위반</td>\n",
       "      <td>안전운전 의무 불이행</td>\n",
       "      <td>교차로</td>\n",
       "      <td>교차로내</td>\n",
       "      <td>화물차</td>\n",
       "      <td>보행자</td>\n",
       "      <td>126.917914</td>\n",
       "      <td>37.571086</td>\n",
       "      <td>12</td>\n",
       "      <td>31</td>\n",
       "      <td>15</td>\n",
       "    </tr>\n",
       "    <tr>\n",
       "      <th>16286</th>\n",
       "      <td>2015</td>\n",
       "      <td>야</td>\n",
       "      <td>목</td>\n",
       "      <td>1</td>\n",
       "      <td>1</td>\n",
       "      <td>0</td>\n",
       "      <td>0</td>\n",
       "      <td>충남</td>\n",
       "      <td>서산시</td>\n",
       "      <td>차대사람</td>\n",
       "      <td>횡단중</td>\n",
       "      <td>운전자법규위반</td>\n",
       "      <td>안전운전 의무 불이행</td>\n",
       "      <td>단일로</td>\n",
       "      <td>기타단일로</td>\n",
       "      <td>승용차</td>\n",
       "      <td>보행자</td>\n",
       "      <td>126.464905</td>\n",
       "      <td>36.774807</td>\n",
       "      <td>12</td>\n",
       "      <td>31</td>\n",
       "      <td>18</td>\n",
       "    </tr>\n",
       "    <tr>\n",
       "      <th>16287</th>\n",
       "      <td>2015</td>\n",
       "      <td>야</td>\n",
       "      <td>목</td>\n",
       "      <td>1</td>\n",
       "      <td>1</td>\n",
       "      <td>0</td>\n",
       "      <td>0</td>\n",
       "      <td>충남</td>\n",
       "      <td>천안시</td>\n",
       "      <td>차대사람</td>\n",
       "      <td>기타</td>\n",
       "      <td>운전자법규위반</td>\n",
       "      <td>안전운전 의무 불이행</td>\n",
       "      <td>단일로</td>\n",
       "      <td>기타단일로</td>\n",
       "      <td>화물차</td>\n",
       "      <td>보행자</td>\n",
       "      <td>127.215562</td>\n",
       "      <td>36.912937</td>\n",
       "      <td>12</td>\n",
       "      <td>31</td>\n",
       "      <td>22</td>\n",
       "    </tr>\n",
       "  </tbody>\n",
       "</table>\n",
       "</div>"
      ],
      "text/plain": [
       "        발생년 주야 요일  사망자수  사상자수  중상자수  경상자수 발생지시도 발생지시군구 사고유형_대분류   사고유형  \\\n",
       "16283  2015  주  목     1     4     3     0    충남    당진시     차량단독  공작물충돌   \n",
       "16284  2015  주  목     1     6     3     2    경북    영천시      차대차   정면충돌   \n",
       "16285  2015  주  목     1     1     0     0    서울   서대문구     차대사람  차도통행중   \n",
       "16286  2015  야  목     1     1     0     0    충남    서산시     차대사람    횡단중   \n",
       "16287  2015  야  목     1     1     0     0    충남    천안시     차대사람     기타   \n",
       "\n",
       "      법규위반_대분류         법규위반 도로형태_대분류   도로형태 가해자_당사자종별 피해자_당사자종별          경도  \\\n",
       "16283  운전자법규위반  안전운전 의무 불이행      단일로  기타단일로       승용차        없음  126.585505   \n",
       "16284  운전자법규위반  안전운전 의무 불이행      단일로    교량위       승용차       화물차  128.946486   \n",
       "16285  운전자법규위반  안전운전 의무 불이행      교차로   교차로내       화물차       보행자  126.917914   \n",
       "16286  운전자법규위반  안전운전 의무 불이행      단일로  기타단일로       승용차       보행자  126.464905   \n",
       "16287  운전자법규위반  안전운전 의무 불이행      단일로  기타단일로       화물차       보행자  127.215562   \n",
       "\n",
       "              위도  발생월  발생일  발생시  \n",
       "16283  36.851561   12   31    6  \n",
       "16284  35.974254   12   31   11  \n",
       "16285  37.571086   12   31   15  \n",
       "16286  36.774807   12   31   18  \n",
       "16287  36.912937   12   31   22  "
      ]
     },
     "execution_count": 13,
     "metadata": {},
     "output_type": "execute_result"
    }
   ],
   "source": [
    "df.tail(5)"
   ]
  },
  {
   "cell_type": "code",
   "execution_count": 14,
   "metadata": {},
   "outputs": [
    {
     "data": {
      "text/plain": [
       "(16288, 22)"
      ]
     },
     "execution_count": 14,
     "metadata": {},
     "output_type": "execute_result"
    }
   ],
   "source": [
    "df.shape"
   ]
  },
  {
   "cell_type": "markdown",
   "metadata": {},
   "source": [
    "데이터 중 피해자_당사자종별이 nan인 경우, 없음으로 변경하기"
   ]
  },
  {
   "cell_type": "code",
   "execution_count": 15,
   "metadata": {},
   "outputs": [],
   "source": [
    "df['피해자_당사자종별']=np.where(df['피해자_당사자종별'].isnull(), '없음', df['피해자_당사자종별'])"
   ]
  },
  {
   "cell_type": "markdown",
   "metadata": {},
   "source": [
    "# Explore Data"
   ]
  },
  {
   "cell_type": "code",
   "execution_count": 16,
   "metadata": {},
   "outputs": [],
   "source": [
    "value_counts = df['발생년'].value_counts(dropna=True, sort=True)\n",
    "df_year = value_counts.rename_axis('year').to_frame('counts')\n",
    "df_year.to_csv(\"df_year.csv\",encoding='ms949')"
   ]
  },
  {
   "cell_type": "markdown",
   "metadata": {},
   "source": [
    "2018년 설, 추석 데이터 추출"
   ]
  },
  {
   "cell_type": "code",
   "execution_count": 17,
   "metadata": {},
   "outputs": [],
   "source": [
    "df_2018_2=df[(df['발생월']==2) & (df['발생년']==2018)]\n",
    "df_2018_surl_4=df_2018_2[(df_2018_2['발생일']>=14) & (df_2018_2['발생일']<=17)]\n",
    "\n",
    "df_2018_9=df[(df['발생월']==9) & (df['발생년']==2018)]\n",
    "df_2018_chuseok_4=df_2018_9[(df_2018_9['발생일']>=22) & (df_2018_9['발생일']<=25)]"
   ]
  },
  {
   "cell_type": "code",
   "execution_count": 18,
   "metadata": {},
   "outputs": [],
   "source": [
    "num_2018_2,col_2018_2=df_2018_2.shape\n",
    "num_2018_2_avg=num_2018_2/28\n",
    "\n",
    "num_2018_surl_4,col_2018_surl_4=df_2018_surl_4.shape\n",
    "num_2018_surl_4_avg=num_2018_surl_4/4"
   ]
  },
  {
   "cell_type": "code",
   "execution_count": 19,
   "metadata": {},
   "outputs": [],
   "source": [
    "num_2018_9,col_2018_9=df_2018_9.shape\n",
    "num_2018_9_avg=num_2018_9/31\n",
    "\n",
    "num_2018_chuseok_4,col_2018_chuseok_4=df_2018_chuseok_4.shape\n",
    "num_2018_chuseok_4_avg=num_2018_chuseok_4/4"
   ]
  },
  {
   "cell_type": "markdown",
   "metadata": {},
   "source": [
    "2017년 설, 추석 데이터 추출"
   ]
  },
  {
   "cell_type": "code",
   "execution_count": 20,
   "metadata": {},
   "outputs": [],
   "source": [
    "df_2017_1=df[(df['발생월']==1) & (df['발생년']==2017)]\n",
    "df_2017_surl_4=df_2017_1[(df_2017_1['발생일']>=26) & (df_2017_1['발생일']<=29)]\n",
    "\n",
    "df_2017_10=df[(df['발생월']==10) & (df['발생년']==2017)]\n",
    "df_2017_chuseok_4=df_2017_10[(df_2017_10['발생일']>=2)&(df_2017_10['발생일']<=5)]"
   ]
  },
  {
   "cell_type": "code",
   "execution_count": 21,
   "metadata": {},
   "outputs": [],
   "source": [
    "num_2017_1,col_2017_1=df_2017_1.shape\n",
    "num_2017_1_avg=num_2017_1/31\n",
    "\n",
    "num_2017_surl_4,col_2017_surl_4=df_2017_surl_4.shape\n",
    "num_2017_surl_4_avg=num_2017_surl_4/4"
   ]
  },
  {
   "cell_type": "code",
   "execution_count": 22,
   "metadata": {},
   "outputs": [],
   "source": [
    "num_2017_10,col_2017_10=df_2017_10.shape\n",
    "num_2017_10_avg=num_2017_10/30\n",
    "\n",
    "num_2017_chuseok_4,col_2017_chuseok_4=df_2017_chuseok_4.shape\n",
    "num_2017_chuseok_4_avg=num_2017_chuseok_4/4"
   ]
  },
  {
   "cell_type": "markdown",
   "metadata": {},
   "source": [
    "2016년 설, 추석 데이터 추출"
   ]
  },
  {
   "cell_type": "code",
   "execution_count": 23,
   "metadata": {},
   "outputs": [],
   "source": [
    "df_2016_2=df[(df['발생월']==2) & (df['발생년']==2016)]#윤년\n",
    "df_2016_surl_4=df_2016_2[(df_2016_2['발생일']>=6)&(df_2016_2['발생일']<=9)]\n",
    "\n",
    "df_2016_9=df[(df['발생월']==9) & (df['발생년']==2016)]\n",
    "df_2016_chuseok_4=df_2016_9[(df_2016_9['발생일']>=13)&(df_2016_9['발생일']<=16)]"
   ]
  },
  {
   "cell_type": "code",
   "execution_count": 24,
   "metadata": {},
   "outputs": [],
   "source": [
    "num_2016_2,col_2016_2=df_2016_2.shape\n",
    "num_2016_2_avg=num_2016_2/29 #윤년\n",
    "\n",
    "num_2016_surl_4,col_2016_surl_4=df_2016_surl_4.shape\n",
    "num_2016_surl_4_avg=num_2016_surl_4/4"
   ]
  },
  {
   "cell_type": "code",
   "execution_count": 25,
   "metadata": {},
   "outputs": [],
   "source": [
    "num_2016_9,col_2016_9=df_2016_9.shape\n",
    "num_2016_9_avg=num_2016_9/31\n",
    "\n",
    "num_2016_chuseok_4,col_2016_chuseok_4=df_2016_chuseok_4.shape\n",
    "num_2016_chuseok_4_avg=num_2016_chuseok_4/4"
   ]
  },
  {
   "cell_type": "markdown",
   "metadata": {},
   "source": [
    "2015년 설, 추석 데이터 추출"
   ]
  },
  {
   "cell_type": "code",
   "execution_count": 26,
   "metadata": {},
   "outputs": [],
   "source": [
    "df_2015_2=df[(df['발생월']==2) & (df['발생년']==2015)]\n",
    "df_2015_surl_4=df_2015_2[(df_2015_2['발생일']>=17)&(df_2015_2['발생일']<=20)]\n",
    "\n",
    "df_2015_9=df[(df['발생월']==9) & (df['발생년']==2015)]\n",
    "df_2015_chuseok_4=df_2015_9[(df_2015_9['발생일']>=25)&(df_2015_9['발생일']<=28)]"
   ]
  },
  {
   "cell_type": "code",
   "execution_count": 27,
   "metadata": {},
   "outputs": [],
   "source": [
    "num_2015_2,col_2015_2=df_2015_2.shape\n",
    "num_2015_2_avg=num_2015_2/28 \n",
    "\n",
    "num_2015_surl_4,col_2015_surl_4=df_2015_surl_4.shape\n",
    "num_2015_surl_4_avg=num_2015_surl_4/4"
   ]
  },
  {
   "cell_type": "code",
   "execution_count": 28,
   "metadata": {},
   "outputs": [],
   "source": [
    "num_2015_9,col_2015_9=df_2015_9.shape\n",
    "num_2015_9_avg=num_2015_9/31\n",
    "\n",
    "num_2015_chuseok_4,col_2015_chuseok_4=df_2015_chuseok_4.shape\n",
    "num_2015_chuseok_4_avg=num_2016_chuseok_4/4"
   ]
  },
  {
   "cell_type": "markdown",
   "metadata": {},
   "source": [
    "추출한 데이터 Data frame으로 변경 후 csv파일로 내보내기"
   ]
  },
  {
   "cell_type": "code",
   "execution_count": 29,
   "metadata": {},
   "outputs": [],
   "source": [
    "df_total_surl = pd.DataFrame({\n",
    "    'year':[2015,2016,2017,2018],\n",
    "    'total':[num_2015_2,num_2016_2,num_2017_1,num_2018_2],\n",
    "    'surl': [num_2015_surl_4,num_2016_surl_4,num_2017_surl_4,num_2018_surl_4],\n",
    "    'total-surl':[num_2015_2-num_2015_surl_4,num_2016_2-num_2016_surl_4,num_2017_1-num_2017_surl_4,num_2018_2-num_2018_surl_4]})\n",
    "df_total_surl = df_total_surl.set_index('year')\n",
    "df_total_surl.to_csv(\"df_total_surl.csv\",encoding='ms949')"
   ]
  },
  {
   "cell_type": "code",
   "execution_count": 30,
   "metadata": {},
   "outputs": [],
   "source": [
    "df_total_chuseok = pd.DataFrame({\n",
    "    'year':[2015,2016,2017,2018],\n",
    "    'total':[num_2015_9,num_2016_9,num_2017_10,num_2018_9],\n",
    "    'chuseok': [num_2015_chuseok_4,num_2016_chuseok_4,num_2017_chuseok_4,num_2018_chuseok_4],\n",
    "    'total-chuseok':[num_2015_9-num_2015_chuseok_4,num_2016_9-num_2016_chuseok_4,num_2017_10-num_2017_chuseok_4,num_2018_9-num_2018_chuseok_4]})\n",
    "df_total_chuseok = df_total_chuseok.set_index('year')\n",
    "df_total_chuseok.to_csv(\"df_total_chuseok.csv\",encoding='ms949')"
   ]
  },
  {
   "cell_type": "code",
   "execution_count": 31,
   "metadata": {},
   "outputs": [],
   "source": [
    "df_surl_death = pd.DataFrame({\n",
    "    'year':[2015,2016,2017,2018],\n",
    "    'total':[df_2015_2['사망자수'].sum(),df_2016_2['사망자수'].sum(),df_2017_1['사망자수'].sum(),df_2018_2['사망자수'].sum()],\n",
    "    'surl': [df_2015_surl_4['사망자수'].sum(),df_2016_surl_4['사망자수'].sum(),df_2017_surl_4['사망자수'].sum(),df_2018_surl_4['사망자수'].sum()],\n",
    "    'total-surl':[df_2015_2['사망자수'].sum()-df_2015_surl_4['사망자수'].sum(),df_2016_2['사망자수'].sum()-df_2016_surl_4['사망자수'].sum(),df_2017_1['사망자수'].sum()-df_2017_surl_4['사망자수'].sum(),df_2018_2['사망자수'].sum()-df_2018_surl_4['사망자수'].sum()]\n",
    "    })\n",
    "df_surl_death = df_surl_death.set_index('year')\n",
    "df_surl_death.to_csv(\"df_surl_death.csv\",encoding='ms949')"
   ]
  },
  {
   "cell_type": "code",
   "execution_count": 32,
   "metadata": {},
   "outputs": [],
   "source": [
    "df_chuseok_death = pd.DataFrame({\n",
    "    'year':[2015,2016,2017,2018],\n",
    "    'total':[df_2015_9['사망자수'].sum(),df_2016_9['사망자수'].sum(),df_2017_10['사망자수'].sum(),df_2018_9['사망자수'].sum()],\n",
    "    'chuseok': [df_2015_chuseok_4['사망자수'].sum(),df_2016_chuseok_4['사망자수'].sum(),df_2017_chuseok_4['사망자수'].sum(),df_2018_chuseok_4['사망자수'].sum()],\n",
    "    'total-chuseok':[df_2015_9['사망자수'].sum()-df_2015_chuseok_4['사망자수'].sum(),df_2016_9['사망자수'].sum()-df_2016_chuseok_4['사망자수'].sum(),df_2017_10['사망자수'].sum()-df_2017_chuseok_4['사망자수'].sum(),df_2018_9['사망자수'].sum()-df_2018_chuseok_4['사망자수'].sum()]\n",
    "    })\n",
    "df_chuseok_death = df_chuseok_death.set_index('year')\n",
    "df_chuseok_death.to_csv(\"df_chuseok_death.csv\",encoding='ms949')"
   ]
  },
  {
   "cell_type": "code",
   "execution_count": 33,
   "metadata": {},
   "outputs": [],
   "source": [
    "df_surl_12=pd.concat([df_2015_surl_4,df_2016_surl_4],ignore_index=True)\n",
    "df_surl_34=pd.concat([df_2017_surl_4,df_2018_surl_4],ignore_index=True)\n",
    "df_surl=pd.concat([df_surl_12,df_surl_34],ignore_index=True)\n",
    "\n",
    "df_chuseok_12=pd.concat([df_2015_chuseok_4,df_2016_chuseok_4],ignore_index=True)\n",
    "df_chuseok_34=pd.concat([df_2017_chuseok_4,df_2018_chuseok_4],ignore_index=True)\n",
    "df_chuseok=pd.concat([df_chuseok_12,df_chuseok_34],ignore_index=True)\n"
   ]
  },
  {
   "cell_type": "markdown",
   "metadata": {},
   "source": [
    "사고 발생 원인 유형 추출 및 csv파일로 내보내기"
   ]
  },
  {
   "cell_type": "code",
   "execution_count": 34,
   "metadata": {},
   "outputs": [],
   "source": [
    "value_counts = df['법규위반'].value_counts(dropna=True, sort=True)\n",
    "df_breach = value_counts.rename_axis('breach').to_frame('counts')\n",
    "df_breach =df_breach .head(4)\n",
    "df_breach.to_csv(\"df_breach.csv\",encoding='ms949')"
   ]
  },
  {
   "cell_type": "code",
   "execution_count": 35,
   "metadata": {},
   "outputs": [],
   "source": [
    "value_counts = df_surl['법규위반'].value_counts(dropna=True, sort=True)\n",
    "df_surl_breach = value_counts.rename_axis('breach').to_frame('counts')\n",
    "df_surl_breach =df_surl_breach.head(4)\n",
    "df_surl_breach.to_csv(\"df_surl_breach.csv\",encoding='ms949')"
   ]
  },
  {
   "cell_type": "code",
   "execution_count": 36,
   "metadata": {},
   "outputs": [],
   "source": [
    "value_counts = df_chuseok['법규위반'].value_counts(dropna=True, sort=True)\n",
    "df_chuseok_breach = value_counts.rename_axis('breach').to_frame('counts')\n",
    "df_chuseok_breach =df_chuseok_breach.head(4)\n",
    "df_chuseok_breach.to_csv(\"df_chuseok_breach.csv\",encoding='ms949')"
   ]
  },
  {
   "cell_type": "markdown",
   "metadata": {},
   "source": [
    "월별 사망사고 건수 평균과 명절연휴의 사망사고 건수 평균 데이터 추출 및 csv파일로 내보내기"
   ]
  },
  {
   "cell_type": "code",
   "execution_count": 37,
   "metadata": {},
   "outputs": [],
   "source": [
    "df_avg_surl = pd.DataFrame({\n",
    "    'year':[2015,2016,2017,2018],\n",
    "    'total':[num_2015_2_avg,num_2016_2_avg,num_2017_1_avg,num_2018_2_avg],\n",
    "    'surl': [num_2015_surl_4_avg,num_2016_surl_4_avg,num_2017_surl_4_avg,num_2018_surl_4_avg]})\n",
    "df_avg_surl = df_avg_surl.set_index('year')\n",
    "df_avg_surl.to_csv(\"df_avg_surl.csv\",encoding='ms949')"
   ]
  },
  {
   "cell_type": "code",
   "execution_count": 38,
   "metadata": {},
   "outputs": [],
   "source": [
    "df_avg_chuseok = pd.DataFrame({\n",
    "    'year':[2015,2016,2017,2018],\n",
    "    'total':[num_2015_9_avg,num_2016_9_avg,num_2017_10_avg,num_2018_9_avg],\n",
    "    'chuseok': [num_2015_chuseok_4_avg,num_2016_chuseok_4_avg,num_2017_chuseok_4_avg,num_2018_chuseok_4_avg]})\n",
    "df_avg_chuseok = df_avg_chuseok.set_index('year')\n",
    "df_avg_chuseok.to_csv(\"df_avg_chuseok.csv\",encoding='ms949')"
   ]
  }
 ],
 "metadata": {
  "kernelspec": {
   "display_name": "Python 3",
   "language": "python",
   "name": "python3"
  },
  "language_info": {
   "codemirror_mode": {
    "name": "ipython",
    "version": 3
   },
   "file_extension": ".py",
   "mimetype": "text/x-python",
   "name": "python",
   "nbconvert_exporter": "python",
   "pygments_lexer": "ipython3",
   "version": "3.7.3"
  }
 },
 "nbformat": 4,
 "nbformat_minor": 2
}
